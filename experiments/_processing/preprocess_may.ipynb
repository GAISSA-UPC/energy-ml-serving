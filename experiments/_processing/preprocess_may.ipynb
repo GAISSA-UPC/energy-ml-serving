{
 "cells": [
  {
   "cell_type": "code",
   "execution_count": 1,
   "id": "dc909f8c-6fbd-4b91-b296-d534da9bbbbb",
   "metadata": {},
   "outputs": [
    {
     "data": {
      "text/plain": [
       "'D:\\\\GAISSA\\\\energy-repo\\\\last_repo\\\\energy-ml-serving\\\\experiments'"
      ]
     },
     "execution_count": 1,
     "metadata": {},
     "output_type": "execute_result"
    }
   ],
   "source": [
    "pwd"
   ]
  },
  {
   "cell_type": "code",
   "execution_count": 2,
   "id": "1cca9d9e-f481-4698-a391-f1724e2fa709",
   "metadata": {},
   "outputs": [
    {
     "name": "stdout",
     "output_type": "stream",
     "text": [
      "D:\\GAISSA\\energy-repo\\last_repo\\energy-ml-serving\n"
     ]
    }
   ],
   "source": [
    "cd .."
   ]
  },
  {
   "cell_type": "code",
   "execution_count": 4,
   "id": "d6abc7eb-5de9-4001-b36e-6f93011afd2e",
   "metadata": {},
   "outputs": [],
   "source": [
    "import numpy as np\n",
    "import pandas as pd\n",
    "import matplotlib.pyplot as plt\n",
    "import os"
   ]
  },
  {
   "cell_type": "code",
   "execution_count": 5,
   "id": "38246659-86f6-4a29-92c4-da0d84857681",
   "metadata": {},
   "outputs": [],
   "source": [
    "models = ['codet5-base',\n",
    " 'codet5p-220m',\n",
    " 'codeparrot-small',\n",
    " 'pythia-410m']"
   ]
  },
  {
   "cell_type": "code",
   "execution_count": 10,
   "id": "395657f1-27ac-442f-a35f-71ba668177c7",
   "metadata": {},
   "outputs": [],
   "source": [
    "file_name = \"results/energy_onnx-codeparrot-small.csv\"\n",
    "df = pd.read_csv(file_name,  )#index_col='System Time' parse_dates=['System Time'],"
   ]
  },
  {
   "cell_type": "code",
   "execution_count": 11,
   "id": "04534f4f-bb1c-4825-ab08-aa18d5f33ecc",
   "metadata": {},
   "outputs": [
    {
     "data": {
      "text/plain": [
       "Index(['Delta', 'Time', 'CPU_FREQUENCY_0', 'CPU_FREQUENCY_1',\n",
       "       'CPU_FREQUENCY_2', 'CPU_FREQUENCY_3', 'CPU_FREQUENCY_4',\n",
       "       'CPU_FREQUENCY_5', 'CPU_FREQUENCY_6', 'CPU_FREQUENCY_7', 'CPU_USAGE_0',\n",
       "       'CPU_USAGE_1', 'CPU_USAGE_2', 'CPU_USAGE_3', 'CPU_USAGE_4',\n",
       "       'CPU_USAGE_5', 'CPU_USAGE_6', 'CPU_USAGE_7', 'DRAM_ENERGY (J)',\n",
       "       'PACKAGE_ENERGY (J)', 'PP0_ENERGY (J)', 'PP1_ENERGY (J)',\n",
       "       'TOTAL_MEMORY', 'TOTAL_SWAP', 'USED_MEMORY', 'USED_SWAP'],\n",
       "      dtype='object')"
      ]
     },
     "execution_count": 11,
     "metadata": {},
     "output_type": "execute_result"
    }
   ],
   "source": [
    "df.columns"
   ]
  },
  {
   "cell_type": "code",
   "execution_count": 12,
   "id": "b82db784-9c2f-4820-b877-df374f83a429",
   "metadata": {},
   "outputs": [
    {
     "data": {
      "text/html": [
       "<div>\n",
       "<style scoped>\n",
       "    .dataframe tbody tr th:only-of-type {\n",
       "        vertical-align: middle;\n",
       "    }\n",
       "\n",
       "    .dataframe tbody tr th {\n",
       "        vertical-align: top;\n",
       "    }\n",
       "\n",
       "    .dataframe thead th {\n",
       "        text-align: right;\n",
       "    }\n",
       "</style>\n",
       "<table border=\"1\" class=\"dataframe\">\n",
       "  <thead>\n",
       "    <tr style=\"text-align: right;\">\n",
       "      <th></th>\n",
       "      <th>Delta</th>\n",
       "      <th>Time</th>\n",
       "      <th>CPU_FREQUENCY_0</th>\n",
       "      <th>CPU_FREQUENCY_1</th>\n",
       "      <th>CPU_FREQUENCY_2</th>\n",
       "      <th>CPU_FREQUENCY_3</th>\n",
       "      <th>CPU_FREQUENCY_4</th>\n",
       "      <th>CPU_FREQUENCY_5</th>\n",
       "      <th>CPU_FREQUENCY_6</th>\n",
       "      <th>CPU_FREQUENCY_7</th>\n",
       "      <th>...</th>\n",
       "      <th>CPU_USAGE_6</th>\n",
       "      <th>CPU_USAGE_7</th>\n",
       "      <th>DRAM_ENERGY (J)</th>\n",
       "      <th>PACKAGE_ENERGY (J)</th>\n",
       "      <th>PP0_ENERGY (J)</th>\n",
       "      <th>PP1_ENERGY (J)</th>\n",
       "      <th>TOTAL_MEMORY</th>\n",
       "      <th>TOTAL_SWAP</th>\n",
       "      <th>USED_MEMORY</th>\n",
       "      <th>USED_SWAP</th>\n",
       "    </tr>\n",
       "  </thead>\n",
       "  <tbody>\n",
       "    <tr>\n",
       "      <th>0</th>\n",
       "      <td>0</td>\n",
       "      <td>1714982848943</td>\n",
       "      <td>2112</td>\n",
       "      <td>2112</td>\n",
       "      <td>2112</td>\n",
       "      <td>2112</td>\n",
       "      <td>2112</td>\n",
       "      <td>2112</td>\n",
       "      <td>2112</td>\n",
       "      <td>2112</td>\n",
       "      <td>...</td>\n",
       "      <td>54.359402</td>\n",
       "      <td>1.075172</td>\n",
       "      <td>4428.836060</td>\n",
       "      <td>36189.687073</td>\n",
       "      <td>28878.376709</td>\n",
       "      <td>387.73761</td>\n",
       "      <td>17005068288</td>\n",
       "      <td>12348030976</td>\n",
       "      <td>13086830592</td>\n",
       "      <td>2029027328</td>\n",
       "    </tr>\n",
       "    <tr>\n",
       "      <th>1</th>\n",
       "      <td>199</td>\n",
       "      <td>1714982848943</td>\n",
       "      <td>2112</td>\n",
       "      <td>2112</td>\n",
       "      <td>2112</td>\n",
       "      <td>2112</td>\n",
       "      <td>2112</td>\n",
       "      <td>2112</td>\n",
       "      <td>2112</td>\n",
       "      <td>2112</td>\n",
       "      <td>...</td>\n",
       "      <td>100.000000</td>\n",
       "      <td>4.543594</td>\n",
       "      <td>4428.843262</td>\n",
       "      <td>36189.743286</td>\n",
       "      <td>28878.416626</td>\n",
       "      <td>387.73761</td>\n",
       "      <td>17005068288</td>\n",
       "      <td>12348030976</td>\n",
       "      <td>13086683136</td>\n",
       "      <td>2030555136</td>\n",
       "    </tr>\n",
       "    <tr>\n",
       "      <th>2</th>\n",
       "      <td>191</td>\n",
       "      <td>1714982849152</td>\n",
       "      <td>2112</td>\n",
       "      <td>2112</td>\n",
       "      <td>2112</td>\n",
       "      <td>2112</td>\n",
       "      <td>2112</td>\n",
       "      <td>2112</td>\n",
       "      <td>2112</td>\n",
       "      <td>2112</td>\n",
       "      <td>...</td>\n",
       "      <td>24.586769</td>\n",
       "      <td>1.412857</td>\n",
       "      <td>4428.995972</td>\n",
       "      <td>36192.827087</td>\n",
       "      <td>28881.175354</td>\n",
       "      <td>387.73761</td>\n",
       "      <td>17005068288</td>\n",
       "      <td>12348030976</td>\n",
       "      <td>13095006208</td>\n",
       "      <td>2044895232</td>\n",
       "    </tr>\n",
       "    <tr>\n",
       "      <th>3</th>\n",
       "      <td>200</td>\n",
       "      <td>1714982849344</td>\n",
       "      <td>2112</td>\n",
       "      <td>2112</td>\n",
       "      <td>2112</td>\n",
       "      <td>2112</td>\n",
       "      <td>2112</td>\n",
       "      <td>2112</td>\n",
       "      <td>2112</td>\n",
       "      <td>2112</td>\n",
       "      <td>...</td>\n",
       "      <td>2.024513</td>\n",
       "      <td>1.429489</td>\n",
       "      <td>4429.126953</td>\n",
       "      <td>36193.230408</td>\n",
       "      <td>28881.278503</td>\n",
       "      <td>387.73761</td>\n",
       "      <td>17005068288</td>\n",
       "      <td>12348030976</td>\n",
       "      <td>13095006208</td>\n",
       "      <td>2044895232</td>\n",
       "    </tr>\n",
       "    <tr>\n",
       "      <th>4</th>\n",
       "      <td>200</td>\n",
       "      <td>1714982849544</td>\n",
       "      <td>2112</td>\n",
       "      <td>2112</td>\n",
       "      <td>2112</td>\n",
       "      <td>2112</td>\n",
       "      <td>2112</td>\n",
       "      <td>2112</td>\n",
       "      <td>2112</td>\n",
       "      <td>2112</td>\n",
       "      <td>...</td>\n",
       "      <td>2.265457</td>\n",
       "      <td>2.967453</td>\n",
       "      <td>4429.266418</td>\n",
       "      <td>36193.605164</td>\n",
       "      <td>28881.451355</td>\n",
       "      <td>387.73761</td>\n",
       "      <td>17005068288</td>\n",
       "      <td>12348030976</td>\n",
       "      <td>13095088128</td>\n",
       "      <td>2044895232</td>\n",
       "    </tr>\n",
       "  </tbody>\n",
       "</table>\n",
       "<p>5 rows × 26 columns</p>\n",
       "</div>"
      ],
      "text/plain": [
       "   Delta           Time  CPU_FREQUENCY_0  CPU_FREQUENCY_1  CPU_FREQUENCY_2  \\\n",
       "0      0  1714982848943             2112             2112             2112   \n",
       "1    199  1714982848943             2112             2112             2112   \n",
       "2    191  1714982849152             2112             2112             2112   \n",
       "3    200  1714982849344             2112             2112             2112   \n",
       "4    200  1714982849544             2112             2112             2112   \n",
       "\n",
       "   CPU_FREQUENCY_3  CPU_FREQUENCY_4  CPU_FREQUENCY_5  CPU_FREQUENCY_6  \\\n",
       "0             2112             2112             2112             2112   \n",
       "1             2112             2112             2112             2112   \n",
       "2             2112             2112             2112             2112   \n",
       "3             2112             2112             2112             2112   \n",
       "4             2112             2112             2112             2112   \n",
       "\n",
       "   CPU_FREQUENCY_7  ...  CPU_USAGE_6  CPU_USAGE_7  DRAM_ENERGY (J)  \\\n",
       "0             2112  ...    54.359402     1.075172      4428.836060   \n",
       "1             2112  ...   100.000000     4.543594      4428.843262   \n",
       "2             2112  ...    24.586769     1.412857      4428.995972   \n",
       "3             2112  ...     2.024513     1.429489      4429.126953   \n",
       "4             2112  ...     2.265457     2.967453      4429.266418   \n",
       "\n",
       "   PACKAGE_ENERGY (J)  PP0_ENERGY (J)  PP1_ENERGY (J)  TOTAL_MEMORY  \\\n",
       "0        36189.687073    28878.376709       387.73761   17005068288   \n",
       "1        36189.743286    28878.416626       387.73761   17005068288   \n",
       "2        36192.827087    28881.175354       387.73761   17005068288   \n",
       "3        36193.230408    28881.278503       387.73761   17005068288   \n",
       "4        36193.605164    28881.451355       387.73761   17005068288   \n",
       "\n",
       "    TOTAL_SWAP  USED_MEMORY   USED_SWAP  \n",
       "0  12348030976  13086830592  2029027328  \n",
       "1  12348030976  13086683136  2030555136  \n",
       "2  12348030976  13095006208  2044895232  \n",
       "3  12348030976  13095006208  2044895232  \n",
       "4  12348030976  13095088128  2044895232  \n",
       "\n",
       "[5 rows x 26 columns]"
      ]
     },
     "execution_count": 12,
     "metadata": {},
     "output_type": "execute_result"
    }
   ],
   "source": [
    "df.head()"
   ]
  },
  {
   "cell_type": "code",
   "execution_count": 13,
   "id": "cb151351-fda7-4d90-aad9-6271dffcf139",
   "metadata": {},
   "outputs": [
    {
     "data": {
      "text/plain": [
       "Index(['Delta', 'Time', 'CPU_FREQUENCY_0', 'CPU_FREQUENCY_1',\n",
       "       'CPU_FREQUENCY_2', 'CPU_FREQUENCY_3', 'CPU_FREQUENCY_4',\n",
       "       'CPU_FREQUENCY_5', 'CPU_FREQUENCY_6', 'CPU_FREQUENCY_7', 'CPU_USAGE_0',\n",
       "       'CPU_USAGE_1', 'CPU_USAGE_2', 'CPU_USAGE_3', 'CPU_USAGE_4',\n",
       "       'CPU_USAGE_5', 'CPU_USAGE_6', 'CPU_USAGE_7', 'DRAM_ENERGY (J)',\n",
       "       'PACKAGE_ENERGY (J)', 'PP0_ENERGY (J)', 'PP1_ENERGY (J)',\n",
       "       'TOTAL_MEMORY', 'TOTAL_SWAP', 'USED_MEMORY', 'USED_SWAP'],\n",
       "      dtype='object')"
      ]
     },
     "execution_count": 13,
     "metadata": {},
     "output_type": "execute_result"
    }
   ],
   "source": [
    "df.columns"
   ]
  },
  {
   "cell_type": "code",
   "execution_count": 16,
   "id": "f235588d-cadc-4d0d-baa2-97ac0c2c212e",
   "metadata": {},
   "outputs": [],
   "source": [
    "name_mapping = {\"DRAM_ENERGY (J)\" : \"dram_energy\",\n",
    "                \"PACKAGE_ENERGY (J)\":'package_energy',\n",
    "               'PP0_ENERGY (J)':\"pp0_energy\",\n",
    "               'PP1_ENERGY (J)':\"pp1_energy\"}\n",
    "df = df.rename(columns=name_mapping)\n",
    "df.columns = df.columns.str.lower() # to lowcase"
   ]
  },
  {
   "cell_type": "code",
   "execution_count": 17,
   "id": "7de6c45b-7a10-4c0f-bd2d-25f864453e9b",
   "metadata": {},
   "outputs": [
    {
     "data": {
      "text/plain": [
       "Index(['delta', 'time', 'cpu_frequency_0', 'cpu_frequency_1',\n",
       "       'cpu_frequency_2', 'cpu_frequency_3', 'cpu_frequency_4',\n",
       "       'cpu_frequency_5', 'cpu_frequency_6', 'cpu_frequency_7', 'cpu_usage_0',\n",
       "       'cpu_usage_1', 'cpu_usage_2', 'cpu_usage_3', 'cpu_usage_4',\n",
       "       'cpu_usage_5', 'cpu_usage_6', 'cpu_usage_7', 'dram_energy (j)',\n",
       "       'package_energy', 'pp0_energy', 'pp1_energy', 'total_memory',\n",
       "       'total_swap', 'used_memory', 'used_swap'],\n",
       "      dtype='object')"
      ]
     },
     "execution_count": 17,
     "metadata": {},
     "output_type": "execute_result"
    }
   ],
   "source": [
    "df.columns"
   ]
  },
  {
   "cell_type": "code",
   "execution_count": null,
   "id": "a94c524a-0c6a-4c0d-8041-1247985d66ad",
   "metadata": {},
   "outputs": [],
   "source": [
    "energy_columns = ['DRAM_ENERGY (J)', 'PACKAGE_ENERGY (J)', 'CPU_USAGE_0', 'CPU_USAGE_1']"
   ]
  },
  {
   "cell_type": "code",
   "execution_count": null,
   "id": "09b55e33-41ec-4c6d-9e7d-0f3b19ec446e",
   "metadata": {},
   "outputs": [],
   "source": [
    "def avg_metric(df: pd.DataFrame, metric_name: str):\n",
    "    all_data = None\n",
    "    nb_point = 0\n",
    "    for metric in df.columns[1:]:\n",
    "        if metric_name in metric:\n",
    "            nb_point += 1\n",
    "            if all_data is None:\n",
    "                all_data = df[metric].copy()\n",
    "            else:\n",
    "                all_data += df[metric]\n",
    "    return all_data/nb_point\n",
    "def generate_metric_charts(csv_file):\n",
    "    all_data = []\n",
    "    if not os.path.exists(csv_file):\n",
    "        raise ValueError(f'{csv_file} does not exist')\n",
    "    df = pd.read_csv(csv_file)\n",
    "    key = \"PACKAGE_ENERGY (W)\"\n",
    "    if \"CPU_ENERGY (J)\" in df.columns:\n",
    "        key = \"CPU_ENERGY (J)\"\n",
    "    if \"PACKAGE_ENERGY (J)\" in df.columns:\n",
    "        key = \"PACKAGE_ENERGY (J)\"\n",
    "    if \"SYSTEM_POWER (Watts)\" in df.columns:\n",
    "        key = \"SYSTEM_POWER (Watts)\"\n",
    "    data = df[key].copy().to_list()\n",
    "    if key != \"CPU_POWER (Watts)\" and key != \"SYSTEM_POWER (Watts)\":\n",
    "        df[key + \"_original\"] = df[key].copy()\n",
    "        for i in range(0, len(data)):\n",
    "            if i in df[key + \"_original\"] and i - 1 in df[key + \"_original\"]:\n",
    "                # diff with previous value and convert to watts\n",
    "                data[i] = (data[i] - df[key + \"_original\"][i - 1]) * (1000 / df[\"Delta\"][i])\n",
    "            else:\n",
    "                data[i] = 0\n",
    "    # data = data[1:-1]\n",
    "    for i in range(0, len(data)):\n",
    "        all_data.append({\"Time\": i, \"CPU_POWER (Watts)\": data[i]})\n",
    "    fig, ax = plt.subplots(figsize=(10, 5))\n",
    "    ax.plot(data, label=\"CPU Power\")\n",
    "    ax.set_ylabel('watts')\n",
    "\n",
    "    ax2 = ax.twinx()\n",
    "    \n",
    "    ax2.plot(avg_metric(df, \"DRAM_ENERGY\"), label=\"DRAM_ENERGY (J)\", color=\"red\")\n",
    "    ax2.plot(avg_metric(df, \"CPU_USAGE_0\"), label=\"CPU USAGE (%)\", color=\"orange\")\n",
    "    ax2.plot(df[\"USED_MEMORY\"]*100/df[\"TOTAL_MEMORY\"], label=\"Used Memory (%)\", color=\"green\")\n",
    "    ax2.set_ylim([0, 100])\n",
    "    \n",
    "    ax.set(xlabel=None)\n",
    "    fig.legend(loc='upper right')\n",
    "    fig.tight_layout()\n",
    "    plt.show()"
   ]
  },
  {
   "cell_type": "code",
   "execution_count": null,
   "id": "32186bf6-2617-47d1-9c47-0208dd75b067",
   "metadata": {},
   "outputs": [],
   "source": [
    "generate_metric_charts(os.path.join(os.getcwd(), 'results/energy_onnx-codeparrot-small.csv'))"
   ]
  },
  {
   "cell_type": "code",
   "execution_count": null,
   "id": "af3a688b-af40-45d8-b776-04cfc491e30c",
   "metadata": {},
   "outputs": [],
   "source": [
    "# Plotting time series for energy columns\n",
    "fig, axs = plt.subplots(len(energy_columns), 1, figsize=(10, 8), sharex=True)\n",
    "\n",
    "for i, col in enumerate(energy_columns):\n",
    "    df[col].plot(ax=axs[i], title=col)\n",
    "\n",
    "# Improve spacing\n",
    "plt.tight_layout()\n",
    "\n",
    "# Show plot\n",
    "plt.show()"
   ]
  },
  {
   "cell_type": "code",
   "execution_count": null,
   "id": "565f53d8-56ad-4b49-bdc0-c00cfe61cdc6",
   "metadata": {},
   "outputs": [],
   "source": [
    "columns_to_increment = [\"DRAM_ENERGY (J)\",\"PACKAGE_ENERGY (J)\", \"USED_MEMORY\" , \"USED_SWAP\"]"
   ]
  },
  {
   "cell_type": "code",
   "execution_count": null,
   "id": "993561bb-a03d-4157-97fc-925643483c22",
   "metadata": {},
   "outputs": [],
   "source": [
    "for column in columns_to_increment:\n",
    "    df[]"
   ]
  },
  {
   "cell_type": "code",
   "execution_count": null,
   "id": "948a27ea-4d56-425a-9568-caed8099de5b",
   "metadata": {},
   "outputs": [],
   "source": [
    "import pandas as pd\n",
    "# energibridge - DRAM_ENERGY (J),PACKAGE_ENERGY (J) USED_MEMORY USED_SWAP\n",
    "\n",
    "\n",
    "df['processor_increment'] = df['Cumulative Processor Energy_0(Joules)'].diff()\n",
    "\n",
    "# Repeat for other cumulative columns as needed\n",
    "df['IA_increment'] = df['Cumulative IA Energy_0(Joules)'].diff()\n",
    "df['DRAM_increment'] = df['Cumulative DRAM Energy_0(Joules)'].diff()\n",
    "df['GT_increment'] = df['Cumulative GT Energy_0(Joules)'].diff()"
   ]
  }
 ],
 "metadata": {
  "kernelspec": {
   "display_name": "Python 3 (ipykernel)",
   "language": "python",
   "name": "python3"
  },
  "language_info": {
   "codemirror_mode": {
    "name": "ipython",
    "version": 3
   },
   "file_extension": ".py",
   "mimetype": "text/x-python",
   "name": "python",
   "nbconvert_exporter": "python",
   "pygments_lexer": "ipython3",
   "version": "3.8.10"
  }
 },
 "nbformat": 4,
 "nbformat_minor": 5
}
